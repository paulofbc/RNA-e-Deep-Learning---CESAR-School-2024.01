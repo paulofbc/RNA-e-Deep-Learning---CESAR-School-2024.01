{
 "cells": [
  {
   "cell_type": "markdown",
   "metadata": {
    "id": "4PHBzchPHif1"
   },
   "source": [
    "# Regressão Linear com PyTorch"
   ]
  },
  {
   "cell_type": "markdown",
   "metadata": {
    "id": "GujG54RVHif3"
   },
   "source": [
    "## Objetivo"
   ]
  },
  {
   "cell_type": "markdown",
   "metadata": {
    "id": "GGxcJJDOHif4"
   },
   "source": [
    "Este exemplo utiliza regressão linear para estimar o comprimento das sépalas da íris a partir do seu comprimento das pétalas.\n",
    "Utiliza-se\n",
    "- o cálculo do gradiente automático do PyTorch, porém\n",
    "- a função de perda e\n",
    "- atualização dos parâmetros é feita de forma explícita.\n",
    "- A rede é criada com uma camada nn.Linear()"
   ]
  },
  {
   "cell_type": "markdown",
   "metadata": {
    "id": "6Q1aL4eOHif5"
   },
   "source": [
    "![alt text](https://raw.githubusercontent.com/vcasadei/images/master/RegressaoLinear_Otimizacao.png)"
   ]
  },
  {
   "cell_type": "markdown",
   "metadata": {
    "id": "D-OH95H9Hif6"
   },
   "source": [
    "## Importação dos pacotes"
   ]
  },
  {
   "cell_type": "code",
   "execution_count": 2,
   "metadata": {
    "ExecuteTime": {
     "end_time": "2017-11-23T23:50:37.321471Z",
     "start_time": "2017-11-23T23:50:35.620908Z"
    },
    "colab": {
     "base_uri": "https://localhost:8080/"
    },
    "id": "Rwd6UgfSHif8",
    "outputId": "c2045dc1-48dd-41a1-e4b8-ae3e2d4dee4d"
   },
   "outputs": [
    {
     "data": {
      "text/plain": [
       "<torch._C.Generator at 0x7f78a19bcf90>"
      ]
     },
     "execution_count": 2,
     "metadata": {},
     "output_type": "execute_result"
    }
   ],
   "source": [
    "%matplotlib inline\n",
    "import matplotlib.pyplot as plt\n",
    "\n",
    "import numpy as np\n",
    "from sklearn.datasets import load_iris\n",
    "\n",
    "import torch\n",
    "from torch import nn, optim\n",
    "from torch.autograd import Variable\n",
    "\n",
    "torch.manual_seed(4242)"
   ]
  },
  {
   "cell_type": "markdown",
   "metadata": {
    "id": "tM6s6TDZHigH"
   },
   "source": [
    "## Leitura dos dados"
   ]
  },
  {
   "cell_type": "code",
   "execution_count": 3,
   "metadata": {
    "ExecuteTime": {
     "end_time": "2017-11-23T23:50:37.352459Z",
     "start_time": "2017-11-23T23:50:37.324344Z"
    },
    "colab": {
     "base_uri": "https://localhost:8080/"
    },
    "id": "e4YFUL0MHigI",
    "outputId": "f40064fb-82f4-4efc-8957-3279c9b77e6a"
   },
   "outputs": [
    {
     "name": "stdout",
     "output_type": "stream",
     "text": [
      "x_train.shape: (50, 1) float32\n",
      "y_train.shape: (50, 1) float32\n",
      "x_train[:5]:\n",
      " [[7. ]\n",
      " [6.4]\n",
      " [6.9]\n",
      " [5.5]\n",
      " [6.5]]\n",
      "y_train[:5]:\n",
      " [[4.7]\n",
      " [4.5]\n",
      " [4.9]\n",
      " [4. ]\n",
      " [4.6]]\n"
     ]
    }
   ],
   "source": [
    "iris = load_iris()\n",
    "data = iris.data[iris.target==1,::2]  # comprimento das sépalas e pétalas, indices 0 e 2\n",
    "\n",
    "x_train = data[:,0:1].astype(np.float32)\n",
    "y_train = data[:,1:2].astype(np.float32)\n",
    "\n",
    "n_samples = x_train.shape[0]\n",
    "print('x_train.shape:',x_train.shape, x_train.dtype)\n",
    "print('y_train.shape:',y_train.shape, y_train.dtype)\n",
    "\n",
    "print('x_train[:5]:\\n', x_train[:5])\n",
    "print('y_train[:5]:\\n', y_train[:5])"
   ]
  },
  {
   "cell_type": "markdown",
   "metadata": {
    "id": "KiBZegbaHigL"
   },
   "source": [
    "### Normalização dos dados"
   ]
  },
  {
   "cell_type": "code",
   "execution_count": 4,
   "metadata": {
    "colab": {
     "base_uri": "https://localhost:8080/"
    },
    "id": "nYq87NbdHxZF",
    "outputId": "e22b4e80-fc4c-4104-d7fb-a34a3a16d071"
   },
   "outputs": [
    {
     "name": "stdout",
     "output_type": "stream",
     "text": [
      "x_train[:5]:\n",
      " [[1.        ]\n",
      " [0.71428573]\n",
      " [0.952381  ]\n",
      " [0.28571424]\n",
      " [0.7619048 ]]\n",
      "y_train[:5]:\n",
      " [[0.80952376]\n",
      " [0.71428573]\n",
      " [0.90476197]\n",
      " [0.4761905 ]\n",
      " [0.7619048 ]]\n"
     ]
    }
   ],
   "source": [
    "x_train -= x_train.min()\n",
    "x_train /= x_train.max()\n",
    "y_train -= y_train.min()\n",
    "y_train /= y_train.max()\n",
    "\n",
    "print('x_train[:5]:\\n', x_train[:5])\n",
    "print('y_train[:5]:\\n', y_train[:5])"
   ]
  },
  {
   "cell_type": "code",
   "execution_count": 5,
   "metadata": {
    "ExecuteTime": {
     "end_time": "2017-11-23T23:50:37.381683Z",
     "start_time": "2017-11-23T23:50:37.375245Z"
    },
    "id": "epxtUveAHigP"
   },
   "outputs": [],
   "source": [
    "x_train_bias = np.hstack([np.ones(shape=(n_samples,1)), x_train])"
   ]
  },
  {
   "cell_type": "code",
   "execution_count": 6,
   "metadata": {
    "colab": {
     "base_uri": "https://localhost:8080/"
    },
    "id": "AgObmWFjH5x7",
    "outputId": "5de72783-fff5-4bdc-f7e3-98abc5369b42"
   },
   "outputs": [
    {
     "data": {
      "text/plain": [
       "array([[1.        , 1.        ],\n",
       "       [1.        , 0.71428573],\n",
       "       [1.        , 0.95238101],\n",
       "       [1.        , 0.28571424],\n",
       "       [1.        , 0.76190478],\n",
       "       [1.        , 0.38095227],\n",
       "       [1.        , 0.66666675],\n",
       "       [1.        , 0.        ],\n",
       "       [1.        , 0.80952376],\n",
       "       [1.        , 0.14285702],\n",
       "       [1.        , 0.047619  ],\n",
       "       [1.        , 0.47619051],\n",
       "       [1.        , 0.52380949],\n",
       "       [1.        , 0.57142848],\n",
       "       [1.        , 0.33333325],\n",
       "       [1.        , 0.85714275],\n",
       "       [1.        , 0.33333325],\n",
       "       [1.        , 0.42857149],\n",
       "       [1.        , 0.61904752],\n",
       "       [1.        , 0.33333325],\n",
       "       [1.        , 0.47619051],\n",
       "       [1.        , 0.57142848],\n",
       "       [1.        , 0.66666675],\n",
       "       [1.        , 0.57142848],\n",
       "       [1.        , 0.71428573],\n",
       "       [1.        , 0.80952376],\n",
       "       [1.        , 0.90476197],\n",
       "       [1.        , 0.85714275],\n",
       "       [1.        , 0.52380949],\n",
       "       [1.        , 0.38095227],\n",
       "       [1.        , 0.28571424],\n",
       "       [1.        , 0.28571424],\n",
       "       [1.        , 0.42857149],\n",
       "       [1.        , 0.52380949],\n",
       "       [1.        , 0.23809525],\n",
       "       [1.        , 0.52380949],\n",
       "       [1.        , 0.85714275],\n",
       "       [1.        , 0.66666675],\n",
       "       [1.        , 0.33333325],\n",
       "       [1.        , 0.28571424],\n",
       "       [1.        , 0.28571424],\n",
       "       [1.        , 0.57142848],\n",
       "       [1.        , 0.42857149],\n",
       "       [1.        , 0.047619  ],\n",
       "       [1.        , 0.33333325],\n",
       "       [1.        , 0.38095227],\n",
       "       [1.        , 0.38095227],\n",
       "       [1.        , 0.61904752],\n",
       "       [1.        , 0.09523801],\n",
       "       [1.        , 0.38095227]])"
      ]
     },
     "execution_count": 6,
     "metadata": {},
     "output_type": "execute_result"
    }
   ],
   "source": [
    "x_train_bias"
   ]
  },
  {
   "cell_type": "code",
   "execution_count": 7,
   "metadata": {
    "colab": {
     "base_uri": "https://localhost:8080/"
    },
    "id": "7seVsEbJIHb3",
    "outputId": "b146fd63-80ec-428f-ca76-ae5c7e3c651a"
   },
   "outputs": [
    {
     "name": "stdout",
     "output_type": "stream",
     "text": [
      "x_train_bias.shape: (50, 2) float64\n"
     ]
    }
   ],
   "source": [
    "print('x_train_bias.shape:',x_train_bias.shape, x_train_bias.dtype)"
   ]
  },
  {
   "cell_type": "code",
   "execution_count": 8,
   "metadata": {
    "ExecuteTime": {
     "end_time": "2017-11-23T23:50:37.396626Z",
     "start_time": "2017-11-23T23:50:37.389139Z"
    },
    "colab": {
     "base_uri": "https://localhost:8080/"
    },
    "id": "3Enuu3LxHigR",
    "outputId": "a092f18c-ae4a-4c75-d26a-3550f3cec1d8"
   },
   "outputs": [
    {
     "name": "stdout",
     "output_type": "stream",
     "text": [
      "tensor([[0.8095],\n",
      "        [0.7143],\n",
      "        [0.9048],\n",
      "        [0.4762],\n",
      "        [0.7619],\n",
      "        [0.7143],\n",
      "        [0.8095],\n",
      "        [0.1429],\n",
      "        [0.7619],\n",
      "        [0.4286],\n",
      "        [0.2381],\n",
      "        [0.5714],\n",
      "        [0.4762],\n",
      "        [0.8095],\n",
      "        [0.2857],\n",
      "        [0.6667],\n",
      "        [0.7143],\n",
      "        [0.5238],\n",
      "        [0.7143],\n",
      "        [0.4286],\n",
      "        [0.8571],\n",
      "        [0.4762],\n",
      "        [0.9048],\n",
      "        [0.8095],\n",
      "        [0.6190],\n",
      "        [0.6667],\n",
      "        [0.8571],\n",
      "        [0.9524],\n",
      "        [0.7143],\n",
      "        [0.2381],\n",
      "        [0.3810],\n",
      "        [0.3333],\n",
      "        [0.4286],\n",
      "        [1.0000],\n",
      "        [0.7143],\n",
      "        [0.7143],\n",
      "        [0.8095],\n",
      "        [0.6667],\n",
      "        [0.5238],\n",
      "        [0.4762],\n",
      "        [0.6667],\n",
      "        [0.7619],\n",
      "        [0.4762],\n",
      "        [0.1429],\n",
      "        [0.5714],\n",
      "        [0.5714],\n",
      "        [0.5714],\n",
      "        [0.6190],\n",
      "        [0.0000],\n",
      "        [0.5238]])\n"
     ]
    }
   ],
   "source": [
    "x_train_bias = torch.FloatTensor(x_train_bias)\n",
    "y_train      = torch.FloatTensor(y_train)\n",
    "print(y_train)"
   ]
  },
  {
   "cell_type": "markdown",
   "metadata": {
    "id": "35kUVzdrHigU"
   },
   "source": [
    "## Model"
   ]
  },
  {
   "cell_type": "markdown",
   "metadata": {
    "id": "8nv8uX7uHigU"
   },
   "source": [
    "![alt text](https://raw.githubusercontent.com/vcasadei/images/master/RegressaoLinearNeuronio.png)"
   ]
  },
  {
   "cell_type": "code",
   "execution_count": 9,
   "metadata": {
    "ExecuteTime": {
     "end_time": "2017-11-23T23:50:37.403510Z",
     "start_time": "2017-11-23T23:50:37.399234Z"
    },
    "id": "Ngq9EEi8HigV"
   },
   "outputs": [],
   "source": [
    "#Inicialização usando toch.nn.Linear\n",
    "\n",
    "model = torch.nn.Linear(in_features=2, out_features=1, bias=False)"
   ]
  },
  {
   "cell_type": "markdown",
   "metadata": {
    "id": "fz0E6uU2HigY"
   },
   "source": [
    "### Verificando a inicialização dos parâmetros"
   ]
  },
  {
   "cell_type": "code",
   "execution_count": 10,
   "metadata": {
    "ExecuteTime": {
     "end_time": "2017-11-23T23:50:37.418969Z",
     "start_time": "2017-11-23T23:50:37.409713Z"
    },
    "colab": {
     "base_uri": "https://localhost:8080/"
    },
    "id": "aKnVpTrnHigZ",
    "outputId": "f63f7cc7-992f-49ed-8927-a8980766cd78"
   },
   "outputs": [
    {
     "name": "stderr",
     "output_type": "stream",
     "text": [
      "/tmp/ipykernel_14152/2197199425.py:2: FutureWarning: `nn.init.uniform` is now deprecated in favor of `nn.init.uniform_`.\n",
      "  torch.nn.init.uniform(model.weight.data, -0.1, 0.1)\n"
     ]
    },
    {
     "data": {
      "text/plain": [
       "Parameter containing:\n",
       "tensor([[0.0492, 0.0413]], requires_grad=True)"
      ]
     },
     "execution_count": 10,
     "metadata": {},
     "output_type": "execute_result"
    }
   ],
   "source": [
    "model.weight.data = torch.zeros(1,2)\n",
    "torch.nn.init.uniform(model.weight.data, -0.1, 0.1)\n",
    "model.weight"
   ]
  },
  {
   "cell_type": "markdown",
   "metadata": {
    "id": "mq22EwyFHigc"
   },
   "source": [
    "### Testando o predict da rede"
   ]
  },
  {
   "cell_type": "code",
   "execution_count": 11,
   "metadata": {
    "ExecuteTime": {
     "end_time": "2017-11-23T23:50:37.497945Z",
     "start_time": "2017-11-23T23:50:37.422209Z"
    },
    "colab": {
     "base_uri": "https://localhost:8080/"
    },
    "id": "dyCO8PL_Hige",
    "outputId": "afa59a90-eaec-4305-92cf-a2f645c79e46"
   },
   "outputs": [
    {
     "data": {
      "text/plain": [
       "tensor([[1., 1.],\n",
       "        [1., 1.],\n",
       "        [1., 1.],\n",
       "        [1., 1.],\n",
       "        [1., 1.]])"
      ]
     },
     "execution_count": 11,
     "metadata": {},
     "output_type": "execute_result"
    }
   ],
   "source": [
    "xx = torch.ones((5,2))\n",
    "xx"
   ]
  },
  {
   "cell_type": "code",
   "execution_count": 12,
   "metadata": {
    "colab": {
     "base_uri": "https://localhost:8080/"
    },
    "id": "kpxZmYMsJF7F",
    "outputId": "97fcf57e-8ead-477f-9935-353e43d78f57"
   },
   "outputs": [
    {
     "data": {
      "text/plain": [
       "tensor([[0.0905],\n",
       "        [0.0905],\n",
       "        [0.0905],\n",
       "        [0.0905],\n",
       "        [0.0905]], grad_fn=<MmBackward0>)"
      ]
     },
     "execution_count": 12,
     "metadata": {},
     "output_type": "execute_result"
    }
   ],
   "source": [
    "model(Variable(xx))"
   ]
  },
  {
   "cell_type": "markdown",
   "metadata": {
    "id": "llozQQShHigg"
   },
   "source": [
    "## Treinamento"
   ]
  },
  {
   "cell_type": "code",
   "execution_count": 13,
   "metadata": {
    "ExecuteTime": {
     "end_time": "2017-11-23T23:50:37.534983Z",
     "start_time": "2017-11-23T23:50:37.501215Z"
    },
    "colab": {
     "base_uri": "https://localhost:8080/"
    },
    "id": "GEY2W_eaHigh",
    "outputId": "69331c48-00a8-4d86-be2f-e431e7a1c9cd",
    "scrolled": false
   },
   "outputs": [
    {
     "name": "stdout",
     "output_type": "stream",
     "text": [
      "Epoch[20/100], loss: 0.022869\n",
      "Epoch[40/100], loss: 0.021416\n",
      "Epoch[60/100], loss: 0.021205\n",
      "Epoch[80/100], loss: 0.021175\n",
      "Epoch[100/100], loss: 0.021170\n"
     ]
    }
   ],
   "source": [
    "num_epochs = 100\n",
    "learning_rate = 0.5\n",
    "for epoch in range(num_epochs):\n",
    "    inputs = Variable(x_train_bias)\n",
    "    target = Variable(y_train)\n",
    "\n",
    "    # forward - predict\n",
    "    y_pred = model(x_train_bias)\n",
    "\n",
    "    #loss cálculo da função de perda\n",
    "    loss = torch.mean((y_pred - y_train)**2)\n",
    "\n",
    "    # backward propagation - cálculo gradient\n",
    "    loss.backward()\n",
    "\n",
    "    # gradiente descendente\n",
    "    model.weight.data = model.weight.data - learning_rate * model.weight.grad.data\n",
    "\n",
    "    # zeragem parâmetros próximo cálculo do gradiente\n",
    "    model.weight.grad.data.zero_()\n",
    "\n",
    "    # verbose\n",
    "    if (epoch+1) % 20 == 0:\n",
    "        print('Epoch[{}/{}], loss: {:.6f}'\n",
    "              .format(epoch+1, num_epochs, loss.data))"
   ]
  },
  {
   "cell_type": "markdown",
   "metadata": {
    "heading_collapsed": true,
    "id": "OyUB8WAmHigk"
   },
   "source": [
    "## Avaliação"
   ]
  },
  {
   "cell_type": "code",
   "execution_count": 14,
   "metadata": {
    "ExecuteTime": {
     "end_time": "2017-11-23T23:50:37.785652Z",
     "start_time": "2017-11-23T23:50:37.538639Z"
    },
    "colab": {
     "base_uri": "https://localhost:8080/",
     "height": 430
    },
    "hidden": true,
    "id": "9ire-2nCHigl",
    "outputId": "cf8e2f9e-bc56-43c6-8901-d8924f37f236"
   },
   "outputs": [
    {
     "data": {
      "image/png": "[encoded data removed]",
      "text/plain": [
       "<Figure size 640x480 with 1 Axes>"
      ]
     },
     "metadata": {},
     "output_type": "display_data"
    }
   ],
   "source": [
    "y_pred = model(Variable(x_train_bias))\n",
    "plt.plot(x_train, y_train.numpy(), 'ro', label='Original data')\n",
    "plt.plot(x_train, y_pred.data.numpy(), 'kx-', label='Fitting Line')\n",
    "plt.show()"
   ]
  },
  {
   "cell_type": "markdown",
   "metadata": {
    "hidden": true,
    "id": "-jQncN7PHigp"
   },
   "source": [
    "### Acessando os parâmetros"
   ]
  },
  {
   "cell_type": "code",
   "execution_count": 15,
   "metadata": {
    "ExecuteTime": {
     "end_time": "2017-11-23T23:50:37.797767Z",
     "start_time": "2017-11-23T23:50:37.787839Z"
    },
    "colab": {
     "base_uri": "https://localhost:8080/"
    },
    "hidden": true,
    "id": "byxPWYlFHigq",
    "outputId": "3cc7409c-f229-45da-80a4-661a622e1195"
   },
   "outputs": [
    {
     "data": {
      "text/plain": [
       "OrderedDict([('weight', tensor([[0.2631, 0.6831]]))])"
      ]
     },
     "execution_count": 15,
     "metadata": {},
     "output_type": "execute_result"
    }
   ],
   "source": [
    "w_dic = model.state_dict()\n",
    "w_dic"
   ]
  },
  {
   "cell_type": "markdown",
   "metadata": {
    "hidden": true,
    "id": "mGK_1QtNHigw"
   },
   "source": [
    "### Parâmetros ótimos, solução analítica"
   ]
  },
  {
   "cell_type": "code",
   "execution_count": 16,
   "metadata": {
    "ExecuteTime": {
     "end_time": "2017-11-23T23:50:37.809980Z",
     "start_time": "2017-11-23T23:50:37.800833Z"
    },
    "colab": {
     "base_uri": "https://localhost:8080/"
    },
    "hidden": true,
    "id": "5jrFm0pXHigx",
    "outputId": "5fecde75-96af-4852-e073-0289cb90760e"
   },
   "outputs": [
    {
     "name": "stdout",
     "output_type": "stream",
     "text": [
      "tensor([[0.2613, 0.6865]])\n"
     ]
    }
   ],
   "source": [
    "x_bias = x_train_bias\n",
    "y = y_train\n",
    "x_bias_t = torch.t(x_bias)\n",
    "w_opt = (torch.inverse(x_bias_t.mm(x_bias)).mm(x_bias_t)).mm(y)\n",
    "print(torch.t(w_opt))"
   ]
  },
  {
   "cell_type": "markdown",
   "metadata": {
    "collapsed": true,
    "heading_collapsed": true,
    "id": "AmTLHbBcHig3"
   },
   "source": [
    "# Exercícios"
   ]
  },
  {
   "cell_type": "markdown",
   "metadata": {
    "hidden": true,
    "id": "0826M7y0Hig5"
   },
   "source": [
    "- 1) Por que no final da varredura do laço de treinamento, a perda é impressa utilizando\n",
    "   `loss.data`? Por que precisa do `data`?\n",
    "   1- O loss.item() é utilizado para extrair o valor escalar da perda. Isso tem a ver com o funcionamento antigo do loss.data onde o dado do tensor de perda era extraído.\n"
   ]
  },
  {
   "cell_type": "markdown",
   "metadata": {
    "hidden": true,
    "id": "cUhiv-56Hig5"
   },
   "source": [
    "- 2) Calcule e imprima o valor da perda (MSE) fazendo o predict da rede com os pesos já\n",
    "   treinados."
   ]
  },
  {
   "cell_type": "code",
   "execution_count": 17,
   "metadata": {},
   "outputs": [
    {
     "name": "stdout",
     "output_type": "stream",
     "text": [
      "MSE após treinamento: 0.021170\n"
     ]
    }
   ],
   "source": [
    "# 2. Cálculo da perda (MSE) após o treinamento\n",
    "y_pred = model(Variable(x_train_bias))\n",
    "mse = torch.mean((y_pred - y_train) ** 2).item()\n",
    "print(f\"MSE após treinamento: {mse:.6f}\")"
   ]
  },
  {
   "cell_type": "markdown",
   "metadata": {
    "hidden": true,
    "id": "pwrS4OGkHig7"
   },
   "source": [
    "- 3) Crie duas listas `w0_list` e `w1_list` para guardar a evolução dos valores dos\n",
    "   parâmetros durante o laço de treinamento.\n",
    "   Modifique o exemplo do gráfico tipo **scatter plot** para visualizar a variação\n",
    "   dos parâmetros do modelo duas dimensões.\n",
    "   Marque neste gráfico o valor ótimo do parâmetro dado pela solução\n",
    "   analítica."
   ]
  },
  {
   "cell_type": "code",
   "execution_count": 18,
   "metadata": {},
   "outputs": [
    {
     "data": {
      "image/png": "[encoded data removed]",
      "text/plain": [
       "<Figure size 640x480 with 2 Axes>"
      ]
     },
     "metadata": {},
     "output_type": "display_data"
    }
   ],
   "source": [
    "# 3. Guardando evolução dos parâmetros\n",
    "w0_list, w1_list = [], []\n",
    "num_epochs = 100\n",
    "learning_rate = 0.5\n",
    "\n",
    "for epoch in range(num_epochs):\n",
    "    inputs = Variable(x_train_bias)\n",
    "    target = Variable(y_train)\n",
    "\n",
    "    # forward\n",
    "    y_pred = model(x_train_bias)\n",
    "\n",
    "    # loss\n",
    "    loss = torch.mean((y_pred - y_train) ** 2)\n",
    "\n",
    "    # backward\n",
    "    loss.backward()\n",
    "\n",
    "    # Salvar parâmetros\n",
    "    w0_list.append(model.weight.data[0, 0].item())\n",
    "    w1_list.append(model.weight.data[0, 1].item())\n",
    "\n",
    "    # Gradiente descendente\n",
    "    model.weight.data = model.weight.data - learning_rate * model.weight.grad.data\n",
    "    model.weight.grad.data.zero_()\n",
    "\n",
    "# 4. Visualização dos parâmetros\n",
    "import matplotlib.pyplot as plt\n",
    "\n",
    "# Scatter plot para evolução dos parâmetros\n",
    "plt.scatter(w0_list, w1_list, c=range(num_epochs), cmap='viridis', label=\"Evolução dos parâmetros\")\n",
    "plt.colorbar(label='Época')\n",
    "\n",
    "# Adicionando a solução analítica\n",
    "plt.scatter(w_opt[0, 0], w_opt[1, 0], color='red', label='Solução analítica', s=100)\n",
    "plt.xlabel('w0')\n",
    "plt.ylabel('w1')\n",
    "plt.title('Evolução dos parâmetros')\n",
    "plt.legend()\n",
    "plt.show()"
   ]
  },
  {
   "cell_type": "markdown",
   "metadata": {
    "hidden": true,
    "id": "9zKM4-2UHig7"
   },
   "source": [
    "## Ploting vectors"
   ]
  },
  {
   "cell_type": "code",
   "execution_count": 19,
   "metadata": {
    "ExecuteTime": {
     "end_time": "2017-11-23T23:57:26.723894Z",
     "start_time": "2017-11-23T23:57:26.517830Z"
    },
    "colab": {
     "base_uri": "https://localhost:8080/",
     "height": 430
    },
    "hidden": true,
    "id": "hXA1HhnsHig8",
    "outputId": "c7782956-66d5-497b-8b71-363e78686ea7"
   },
   "outputs": [
    {
     "data": {
      "image/png": "[encoded data removed]",
      "text/plain": [
       "<Figure size 640x480 with 1 Axes>"
      ]
     },
     "metadata": {},
     "output_type": "display_data"
    }
   ],
   "source": [
    "# Exemplo\n",
    "w0_list = [0.1, 0.15, 0.2, 0.3]\n",
    "w1_list = [0.1, 0.2, 0.18, 0.3]\n",
    "plt.scatter(w0_list,w1_list)\n",
    "w0_old = None\n",
    "for (w0,w1) in zip(w0_list,w1_list):\n",
    "    if w0_old:\n",
    "        plt.arrow(w0_old, w1_old, w0-w0_old, w1-w1_old,\n",
    "                  head_length=0.01,head_width=0.01,shape='full',\n",
    "                  length_includes_head=True)\n",
    "    w0_old,w1_old = w0,w1"
   ]
  },
  {
   "cell_type": "markdown",
   "metadata": {
    "heading_collapsed": true,
    "id": "ssef368KHihA"
   },
   "source": [
    "# Aprendizados"
   ]
  },
  {
   "cell_type": "code",
   "execution_count": null,
   "metadata": {
    "hidden": true,
    "id": "CrrRGo2CHihA"
   },
   "outputs": [],
   "source": []
  }
 ],
 "metadata": {
  "accelerator": "TPU",
  "colab": {
   "name": "2.5-LinearRegressionIrisPyTorch.ipynb",
   "provenance": []
  },
  "kernelspec": {
   "display_name": "pos_env",
   "language": "python",
   "name": "python3"
  },
  "language_info": {
   "codemirror_mode": {
    "name": "ipython",
    "version": 3
   },
   "file_extension": ".py",
   "mimetype": "text/x-python",
   "name": "python",
   "nbconvert_exporter": "python",
   "pygments_lexer": "ipython3",
   "version": "3.12.3"
  }
 },
 "nbformat": 4,
 "nbformat_minor": 0
}
